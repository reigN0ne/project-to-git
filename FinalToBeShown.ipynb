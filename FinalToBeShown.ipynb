{
 "cells": [
  {
   "cell_type": "markdown",
   "metadata": {},
   "source": [
    "Question Answering can be used in a variety of use cases. A very common one:  Using it to navigate through complex knowledge bases or long documents (\"search setting\").\n",
    "\n",
    "A \"knowledge base\" could for example be your website, an internal wiki or a collection of financial reports. \n",
    "In this tutorial we will work on a slightly different domain: \"Game of Thrones\".   \n",
    "\n"
   ]
  },
  {
   "cell_type": "code",
   "execution_count": null,
   "metadata": {},
   "outputs": [],
   "source": [
    "# Install the latest release of Haystack in your own environment \n",
    "#! pip install farm-haystack\n",
    "\n",
    "# Install the latest master of Haystack\n",
    "!pip install git+https://github.com/deepset-ai/haystack.git\n",
    "!pip install urllib3==1.25.4\n",
    "!pip install torch==1.6.0+cu101 torchvision==0.6.1+cu101 -f https://download.pytorch.org/whl/torch_stable.html\n"
   ]
  },
  {
   "cell_type": "code",
   "execution_count": 1,
   "metadata": {},
   "outputs": [],
   "source": [
    "from haystack import Finder\n",
    "from haystack.preprocessor.cleaning import clean_wiki_text\n",
    "from haystack.preprocessor.utils import convert_files_to_dicts, fetch_archive_from_http\n",
    "from haystack.reader.farm import FARMReader\n",
    "from haystack.reader.transformers import TransformersReader\n",
    "from haystack.utils import print_answers"
   ]
  },
  {
   "cell_type": "markdown",
   "metadata": {},
   "source": [
    "## Document Store\n",
    "\n",
    "Haystack finds answers to queries within the documents stored in a `DocumentStore`. The current implementations of `DocumentStore` include `ElasticsearchDocumentStore`, `FAISSDocumentStore`,  `SQLDocumentStore`, and `InMemoryDocumentStore`.\n",
    "\n",
    "**Here:** We recommended Elasticsearch as it comes preloaded with features like [full-text queries](https://www.elastic.co/guide/en/elasticsearch/reference/current/full-text-queries.html), [BM25 retrieval](https://www.elastic.co/elasticon/conf/2016/sf/improved-text-scoring-with-bm25), and [vector storage for text embeddings](https://www.elastic.co/guide/en/elasticsearch/reference/7.6/dense-vector.html).\n",
    "\n",
    "**Alternatives:** If you are unable to setup an Elasticsearch instance, then follow the [Tutorial 3](https://github.com/deepset-ai/haystack/blob/master/tutorials/Tutorial3_Basic_QA_Pipeline_without_Elasticsearch.ipynb) for using SQL/InMemory document stores.\n",
    "\n",
    "**Hint**: This tutorial creates a new document store instance with Wikipedia articles on Game of Thrones. However, you can configure Haystack to work with your existing document stores.\n",
    "\n",
    "### Start an Elasticsearch server\n",
    "You can start Elasticsearch on your local machine instance using Docker. If Docker is not readily available in your environment (eg., in Colab notebooks), then you can manually download and execute Elasticsearch from source."
   ]
  },
  {
   "cell_type": "code",
   "execution_count": 2,
   "metadata": {},
   "outputs": [],
   "source": [
    "# Recommended: Start Elasticsearch using Docker\n",
    "#! docker run -d -p 9200:9200 -e \"discovery.type=single-node\" elasticsearch:7.6.2"
   ]
  },
  {
   "cell_type": "code",
   "execution_count": 3,
   "metadata": {},
   "outputs": [
    {
     "data": {
      "text/plain": [
       "\"! wget https://artifacts.elastic.co/downloads/elasticsearch/elasticsearch-7.6.2-linux-x86_64.tar.gz -q\\n! tar -xzf elasticsearch-7.6.2-linux-x86_64.tar.gz\\n! chown -R daemon:daemon elasticsearch-7.6.2\\n\\nimport os\\nfrom subprocess import Popen, PIPE, STDOUT\\nes_server = Popen(['elasticsearch-7.6.2/bin/elasticsearch'],\\n                   stdout=PIPE, stderr=STDOUT,\\n                   preexec_fn=lambda: os.setuid(1)  # as daemon\\n                  )\\n# wait until ES has started\\n! sleep 30\""
      ]
     },
     "execution_count": 3,
     "metadata": {},
     "output_type": "execute_result"
    }
   ],
   "source": [
    "# In Colab / No Docker environments: Start Elasticsearch from source\n",
    "'''! wget https://artifacts.elastic.co/downloads/elasticsearch/elasticsearch-7.6.2-linux-x86_64.tar.gz -q\n",
    "! tar -xzf elasticsearch-7.6.2-linux-x86_64.tar.gz\n",
    "! chown -R daemon:daemon elasticsearch-7.6.2\n",
    "\n",
    "import os\n",
    "from subprocess import Popen, PIPE, STDOUT\n",
    "es_server = Popen(['elasticsearch-7.6.2/bin/elasticsearch'],\n",
    "                   stdout=PIPE, stderr=STDOUT,\n",
    "                   preexec_fn=lambda: os.setuid(1)  # as daemon\n",
    "                  )\n",
    "# wait until ES has started\n",
    "! sleep 30'''"
   ]
  },
  {
   "cell_type": "code",
   "execution_count": 4,
   "metadata": {
    "pycharm": {
     "name": "#%%\n"
    }
   },
   "outputs": [
    {
     "name": "stderr",
     "output_type": "stream",
     "text": [
      "05/11/2021 22:22:44 - INFO - elasticsearch -   PUT http://localhost:9200/document [status:200 request:0.729s]\n",
      "05/11/2021 22:22:44 - INFO - elasticsearch -   PUT http://localhost:9200/label [status:200 request:0.250s]\n"
     ]
    }
   ],
   "source": [
    "# Connect to Elasticsearch\n",
    "\n",
    "from haystack.document_store.elasticsearch import ElasticsearchDocumentStore\n",
    "document_store = ElasticsearchDocumentStore(host=\"localhost\", username=\"\", password=\"\", index=\"document\")"
   ]
  },
  {
   "cell_type": "markdown",
   "metadata": {
    "pycharm": {
     "name": "#%% md\n"
    }
   },
   "source": [
    "## Preprocessing of documents\n",
    "\n",
    "Haystack provides a customizable pipeline for:\n",
    " - converting files into texts\n",
    " - cleaning texts\n",
    " - splitting texts\n",
    " - writing them to a Document Store\n",
    "\n",
    "In this tutorial, we download Wikipedia articles about Game of Thrones, apply a basic cleaning function, and index them in Elasticsearch."
   ]
  },
  {
   "cell_type": "code",
   "execution_count": 5,
   "metadata": {
    "pycharm": {
     "name": "#%%\n"
    }
   },
   "outputs": [
    {
     "name": "stderr",
     "output_type": "stream",
     "text": [
      "05/11/2021 22:22:47 - WARNING - haystack.preprocessor.utils -   Skipped file D:\\Train\\wiki_gameofthrones_txt.zip as type .zip is not supported here. See haystack.file_converter for support of more file types\n",
      "05/11/2021 22:22:47 - INFO - haystack.preprocessor.utils -   Converting D:\\Train\\0_Game_of_Thrones__season_8_.txt\n",
      "05/11/2021 22:22:47 - INFO - haystack.preprocessor.utils -   Converting D:\\Train\\101_Titties_and_Dragons.txt\n",
      "05/11/2021 22:22:48 - INFO - haystack.preprocessor.utils -   Converting D:\\Train\\102_The_Princess_and_the_Queen.txt\n",
      "05/11/2021 22:22:48 - INFO - haystack.preprocessor.utils -   Converting D:\\Train\\10_Beyond_the_Wall__Game_of_Thrones_.txt\n",
      "05/11/2021 22:22:48 - INFO - haystack.preprocessor.utils -   Converting D:\\Train\\118_Dark_Wings__Dark_Words.txt\n",
      "05/11/2021 22:22:48 - INFO - haystack.preprocessor.utils -   Converting D:\\Train\\119_Walk_of_Punishment.txt\n",
      "05/11/2021 22:22:48 - INFO - haystack.preprocessor.utils -   Converting D:\\Train\\11_The_Dragon_and_the_Wolf.txt\n",
      "05/11/2021 22:22:48 - INFO - haystack.preprocessor.utils -   Converting D:\\Train\\120_And_Now_His_Watch_Is_Ended.txt\n",
      "05/11/2021 22:22:48 - INFO - haystack.preprocessor.utils -   Converting D:\\Train\\121_The_Bear_and_the_Maiden_Fair.txt\n",
      "05/11/2021 22:22:48 - INFO - haystack.preprocessor.utils -   Converting D:\\Train\\126_Kissed_by_Fire.txt\n",
      "05/11/2021 22:22:48 - INFO - haystack.preprocessor.utils -   Converting D:\\Train\\127_The_Climb__Game_of_Thrones_.txt\n",
      "05/11/2021 22:22:48 - INFO - haystack.preprocessor.utils -   Converting D:\\Train\\129_Second_Sons.txt\n",
      "05/11/2021 22:22:48 - INFO - haystack.preprocessor.utils -   Converting D:\\Train\\12_Fire.txt\n",
      "05/11/2021 22:22:48 - INFO - haystack.preprocessor.utils -   Converting D:\\Train\\130_Game_of_Thrones_title_sequence.txt\n",
      "05/11/2021 22:22:48 - INFO - haystack.preprocessor.utils -   Converting D:\\Train\\131_Mhysa.txt\n",
      "05/11/2021 22:22:48 - INFO - haystack.preprocessor.utils -   Converting D:\\Train\\133_Game_of_Thrones__Season_5__soundtrack_.txt\n",
      "05/11/2021 22:22:48 - INFO - haystack.preprocessor.utils -   Converting D:\\Train\\134_Game_of_Thrones__Season_6__soundtrack_.txt\n",
      "05/11/2021 22:22:48 - INFO - haystack.preprocessor.utils -   Converting D:\\Train\\135_Game_of_Thrones__Season_7__soundtrack_.txt\n",
      "05/11/2021 22:22:48 - INFO - haystack.preprocessor.utils -   Converting D:\\Train\\136_Game_of_Thrones__Season_8__soundtrack_.txt\n",
      "05/11/2021 22:22:48 - INFO - haystack.preprocessor.utils -   Converting D:\\Train\\145_Elio_M._García_Jr._and_Linda_Antonsson.txt\n",
      "05/11/2021 22:22:48 - INFO - haystack.preprocessor.utils -   Converting D:\\Train\\146_The_Sons_of_the_Dragon.txt\n",
      "05/11/2021 22:22:48 - INFO - haystack.preprocessor.utils -   Converting D:\\Train\\148_Game_of_Thrones__Winter_Is_Coming.txt\n",
      "05/11/2021 22:22:48 - INFO - haystack.preprocessor.utils -   Converting D:\\Train\\151_Ellaria_Sand.txt\n",
      "05/11/2021 22:22:48 - INFO - haystack.preprocessor.utils -   Converting D:\\Train\\154_Margaery_Tyrell.txt\n",
      "05/11/2021 22:22:48 - INFO - haystack.preprocessor.utils -   Converting D:\\Train\\160_Viserys_Targaryen.txt\n",
      "05/11/2021 22:22:48 - INFO - haystack.preprocessor.utils -   Converting D:\\Train\\191_Gendry.txt\n",
      "05/11/2021 22:22:48 - INFO - haystack.preprocessor.utils -   Converting D:\\Train\\193_Lord_Snow.txt\n",
      "05/11/2021 22:22:48 - INFO - haystack.preprocessor.utils -   Converting D:\\Train\\194_A_Song_of_Ice_and_Fire.txt\n",
      "05/11/2021 22:22:48 - INFO - haystack.preprocessor.utils -   Converting D:\\Train\\195_World_of_A_Song_of_Ice_and_Fire.txt\n",
      "05/11/2021 22:22:48 - INFO - haystack.preprocessor.utils -   Converting D:\\Train\\197_A_Game_of_Thrones.txt\n",
      "05/11/2021 22:22:48 - INFO - haystack.preprocessor.utils -   Converting D:\\Train\\198_A_Clash_of_Kings.txt\n",
      "05/11/2021 22:22:48 - INFO - haystack.preprocessor.utils -   Converting D:\\Train\\199_A_Storm_of_Swords.txt\n",
      "05/11/2021 22:22:48 - INFO - haystack.preprocessor.utils -   Converting D:\\Train\\1_Dragonstone__Game_of_Thrones_episode_.txt\n",
      "05/11/2021 22:22:48 - INFO - haystack.preprocessor.utils -   Converting D:\\Train\\201_A_Game_of_Thrones__card_game_.txt\n",
      "05/11/2021 22:22:48 - INFO - haystack.preprocessor.utils -   Converting D:\\Train\\202_A_Feast_for_Crows.txt\n",
      "05/11/2021 22:22:48 - INFO - haystack.preprocessor.utils -   Converting D:\\Train\\207_Jon_Snow__character_.txt\n",
      "05/11/2021 22:22:48 - INFO - haystack.preprocessor.utils -   Converting D:\\Train\\208_Robb_Stark.txt\n",
      "05/11/2021 22:22:48 - INFO - haystack.preprocessor.utils -   Converting D:\\Train\\209_Mockingbird__Game_of_Thrones_.txt\n",
      "05/11/2021 22:22:48 - INFO - haystack.preprocessor.utils -   Converting D:\\Train\\20_Light_of_the_Seven.txt\n",
      "05/11/2021 22:22:48 - INFO - haystack.preprocessor.utils -   Converting D:\\Train\\210_The_Mountain_and_the_Viper.txt\n",
      "05/11/2021 22:22:48 - INFO - haystack.preprocessor.utils -   Converting D:\\Train\\211_The_Watchers_on_the_Wall.txt\n",
      "05/11/2021 22:22:48 - INFO - haystack.preprocessor.utils -   Converting D:\\Train\\212_The_Children__Game_of_Thrones_.txt\n",
      "05/11/2021 22:22:48 - INFO - haystack.preprocessor.utils -   Converting D:\\Train\\213_Valyrian_languages.txt\n",
      "05/11/2021 22:22:49 - INFO - haystack.preprocessor.utils -   Converting D:\\Train\\214_Dothraki_language.txt\n",
      "05/11/2021 22:22:49 - INFO - haystack.preprocessor.utils -   Converting D:\\Train\\217_The_Rogue_Prince.txt\n",
      "05/11/2021 22:22:49 - INFO - haystack.preprocessor.utils -   Converting D:\\Train\\218_Olenna_Tyrell.txt\n",
      "05/11/2021 22:22:49 - INFO - haystack.preprocessor.utils -   Converting D:\\Train\\21_The_Bear_and_the_Maiden_Fair__song_.txt\n",
      "05/11/2021 22:22:49 - INFO - haystack.preprocessor.utils -   Converting D:\\Train\\224_The_Night_Lands.txt\n",
      "05/11/2021 22:22:49 - INFO - haystack.preprocessor.utils -   Converting D:\\Train\\228_Souad_Faress.txt\n",
      "05/11/2021 22:22:49 - INFO - haystack.preprocessor.utils -   Converting D:\\Train\\229_Game_of_Thrones.txt\n",
      "05/11/2021 22:22:49 - INFO - haystack.preprocessor.utils -   Converting D:\\Train\\22_The_Rains_of_Castamere__song_.txt\n",
      "05/11/2021 22:22:49 - INFO - haystack.preprocessor.utils -   Converting D:\\Train\\232_Tommen_Baratheon.txt\n",
      "05/11/2021 22:22:49 - INFO - haystack.preprocessor.utils -   Converting D:\\Train\\233_Myrcella_Baratheon.txt\n",
      "05/11/2021 22:22:49 - INFO - haystack.preprocessor.utils -   Converting D:\\Train\\23_Game_of_Thrones_Live_Concert_Experience.txt\n",
      "05/11/2021 22:22:49 - INFO - haystack.preprocessor.utils -   Converting D:\\Train\\24_Game_of_Thrones__Season_1__soundtrack_.txt\n",
      "05/11/2021 22:22:49 - INFO - haystack.preprocessor.utils -   Converting D:\\Train\\25_Game_of_Thrones__Season_2__soundtrack_.txt\n",
      "05/11/2021 22:22:49 - INFO - haystack.preprocessor.utils -   Converting D:\\Train\\262_Gilly__character_.txt\n",
      "05/11/2021 22:22:49 - INFO - haystack.preprocessor.utils -   Converting D:\\Train\\263_Tormund_Giantsbane.txt\n",
      "05/11/2021 22:22:49 - INFO - haystack.preprocessor.utils -   Converting D:\\Train\\26_Game_of_Thrones__Season_3__soundtrack_.txt\n",
      "05/11/2021 22:22:49 - INFO - haystack.preprocessor.utils -   Converting D:\\Train\\273_High_Sparrow.txt\n",
      "05/11/2021 22:22:49 - INFO - haystack.preprocessor.utils -   Converting D:\\Train\\27_Game_of_Thrones__Season_4__soundtrack_.txt\n",
      "05/11/2021 22:22:49 - INFO - haystack.preprocessor.utils -   Converting D:\\Train\\28_Jorah_Mormont.txt\n",
      "05/11/2021 22:22:49 - INFO - haystack.preprocessor.utils -   Converting D:\\Train\\299_Rani_Mahal__TV_series_.txt\n",
      "05/11/2021 22:22:49 - INFO - haystack.preprocessor.utils -   Converting D:\\Train\\2_Stormborn.txt\n",
      "05/11/2021 22:22:49 - INFO - haystack.preprocessor.utils -   Converting D:\\Train\\304_Hardhome.txt\n",
      "05/11/2021 22:22:49 - INFO - haystack.preprocessor.utils -   Converting D:\\Train\\306_The_Dance_of_Dragons.txt\n",
      "05/11/2021 22:22:49 - INFO - haystack.preprocessor.utils -   Converting D:\\Train\\30_List_of_A_Song_of_Ice_and_Fire_characters.txt\n",
      "05/11/2021 22:22:49 - INFO - haystack.preprocessor.utils -   Converting D:\\Train\\310_Mother_s_Mercy.txt\n",
      "05/11/2021 22:22:49 - INFO - haystack.preprocessor.utils -   Converting D:\\Train\\311_Game_of_Thrones__season_7_.txt\n",
      "05/11/2021 22:22:49 - INFO - haystack.preprocessor.utils -   Converting D:\\Train\\317_The_Broken_Man.txt\n",
      "05/11/2021 22:22:49 - INFO - haystack.preprocessor.utils -   Converting D:\\Train\\329_Robert_Baratheon.txt\n",
      "05/11/2021 22:22:49 - INFO - haystack.preprocessor.utils -   Converting D:\\Train\\330_Oberyn_Martell.txt\n"
     ]
    },
    {
     "name": "stderr",
     "output_type": "stream",
     "text": [
      "05/11/2021 22:22:49 - INFO - haystack.preprocessor.utils -   Converting D:\\Train\\331_Bran_Stark.txt\n",
      "05/11/2021 22:22:49 - INFO - haystack.preprocessor.utils -   Converting D:\\Train\\332_Sansa_Stark.txt\n",
      "05/11/2021 22:22:49 - INFO - haystack.preprocessor.utils -   Converting D:\\Train\\334_Rickon_Stark.txt\n",
      "05/11/2021 22:22:49 - INFO - haystack.preprocessor.utils -   Converting D:\\Train\\33_David_Benioff.txt\n",
      "05/11/2021 22:22:49 - INFO - haystack.preprocessor.utils -   Converting D:\\Train\\340_Roose_Bolton.txt\n",
      "05/11/2021 22:22:49 - INFO - haystack.preprocessor.utils -   Converting D:\\Train\\341_Ned_Stark.txt\n",
      "05/11/2021 22:22:50 - INFO - haystack.preprocessor.utils -   Converting D:\\Train\\342_Theon_Greyjoy.txt\n",
      "05/11/2021 22:22:50 - INFO - haystack.preprocessor.utils -   Converting D:\\Train\\343_Catelyn_Stark.txt\n",
      "05/11/2021 22:22:50 - INFO - haystack.preprocessor.utils -   Converting D:\\Train\\345_A_Game_of_Thrones__comics_.txt\n",
      "05/11/2021 22:22:50 - INFO - haystack.preprocessor.utils -   Converting D:\\Train\\346_Ygritte.txt\n",
      "05/11/2021 22:22:50 - INFO - haystack.preprocessor.utils -   Converting D:\\Train\\347_Game_of_Thrones__season_2_.txt\n",
      "05/11/2021 22:22:50 - INFO - haystack.preprocessor.utils -   Converting D:\\Train\\348_The_Winds_of_Winter.txt\n",
      "05/11/2021 22:22:50 - INFO - haystack.preprocessor.utils -   Converting D:\\Train\\349_List_of_Game_of_Thrones_characters.txt\n",
      "05/11/2021 22:22:50 - INFO - haystack.preprocessor.utils -   Converting D:\\Train\\356_Tales_of_Dunk_and_Egg.txt\n",
      "05/11/2021 22:22:50 - INFO - haystack.preprocessor.utils -   Converting D:\\Train\\358_A_Game_of_Thrones__Genesis.txt\n",
      "05/11/2021 22:22:50 - INFO - haystack.preprocessor.utils -   Converting D:\\Train\\359_Kill_the_Boy.txt\n",
      "05/11/2021 22:22:50 - INFO - haystack.preprocessor.utils -   Converting D:\\Train\\360_List_of_Game_of_Thrones_episodes.txt\n",
      "05/11/2021 22:22:50 - INFO - haystack.preprocessor.utils -   Converting D:\\Train\\362_Winter_Is_Coming.txt\n",
      "05/11/2021 22:22:50 - INFO - haystack.preprocessor.utils -   Converting D:\\Train\\365_A_Song_of_Ice_and_Fire_Roleplaying.txt\n",
      "05/11/2021 22:22:50 - INFO - haystack.preprocessor.utils -   Converting D:\\Train\\367_Gregor_Clegane.txt\n",
      "05/11/2021 22:22:50 - INFO - haystack.preprocessor.utils -   Converting D:\\Train\\368_Jaime_Lannister.txt\n",
      "05/11/2021 22:22:50 - INFO - haystack.preprocessor.utils -   Converting D:\\Train\\369_Samwell_Tarly.txt\n",
      "05/11/2021 22:22:50 - INFO - haystack.preprocessor.utils -   Converting D:\\Train\\371_Cersei_Lannister.txt\n",
      "05/11/2021 22:22:50 - INFO - haystack.preprocessor.utils -   Converting D:\\Train\\373_Tywin_Lannister.txt\n",
      "05/11/2021 22:22:50 - INFO - haystack.preprocessor.utils -   Converting D:\\Train\\378_A_Game_of_Thrones__board_game_.txt\n",
      "05/11/2021 22:22:50 - INFO - haystack.preprocessor.utils -   Converting D:\\Train\\379_Davos_Seaworth.txt\n",
      "05/11/2021 22:22:50 - INFO - haystack.preprocessor.utils -   Converting D:\\Train\\37_Joffrey_Baratheon.txt\n",
      "05/11/2021 22:22:50 - INFO - haystack.preprocessor.utils -   Converting D:\\Train\\394_Game_of_Thrones__2014_video_game_.txt\n",
      "05/11/2021 22:22:50 - INFO - haystack.preprocessor.utils -   Converting D:\\Train\\395_Game_of_Thrones__season_5_.txt\n",
      "05/11/2021 22:22:50 - INFO - haystack.preprocessor.utils -   Converting D:\\Train\\396_Game_of_Thrones__season_6_.txt\n",
      "05/11/2021 22:22:50 - INFO - haystack.preprocessor.utils -   Converting D:\\Train\\399_For_the_Throne__Music_Inspired_by_the_HBO_Series_Game_of_Thrones.txt\n",
      "05/11/2021 22:22:50 - INFO - haystack.preprocessor.utils -   Converting D:\\Train\\39_Renly_Baratheon.txt\n",
      "05/11/2021 22:22:50 - INFO - haystack.preprocessor.utils -   Converting D:\\Train\\3_The_Queen_s_Justice.txt\n",
      "05/11/2021 22:22:51 - INFO - haystack.preprocessor.utils -   Converting D:\\Train\\400_Winterfell__Game_of_Thrones_episode_.txt\n",
      "05/11/2021 22:22:51 - INFO - haystack.preprocessor.utils -   Converting D:\\Train\\401_Power_Is_Power.txt\n",
      "05/11/2021 22:22:51 - INFO - haystack.preprocessor.utils -   Converting D:\\Train\\402_A_Knight_of_the_Seven_Kingdoms__Game_of_Thrones_.txt\n",
      "05/11/2021 22:22:51 - INFO - haystack.preprocessor.utils -   Converting D:\\Train\\403_Jenny_of_Oldstones.txt\n",
      "05/11/2021 22:22:51 - INFO - haystack.preprocessor.utils -   Converting D:\\Train\\407_The_Long_Night__Game_of_Thrones_.txt\n",
      "05/11/2021 22:22:51 - INFO - haystack.preprocessor.utils -   Converting D:\\Train\\408_The_Last_of_the_Starks.txt\n",
      "05/11/2021 22:22:51 - INFO - haystack.preprocessor.utils -   Converting D:\\Train\\40_Stannis_Baratheon.txt\n",
      "05/11/2021 22:22:51 - INFO - haystack.preprocessor.utils -   Converting D:\\Train\\410_The_Bells__Game_of_Thrones_.txt\n",
      "05/11/2021 22:22:51 - INFO - haystack.preprocessor.utils -   Converting D:\\Train\\411_The_Iron_Throne__Game_of_Thrones_.txt\n",
      "05/11/2021 22:22:51 - INFO - haystack.preprocessor.utils -   Converting D:\\Train\\420_Blood_of_My_Blood.txt\n",
      "05/11/2021 22:22:51 - INFO - haystack.preprocessor.utils -   Converting D:\\Train\\424_Night_King.txt\n",
      "05/11/2021 22:22:51 - INFO - haystack.preprocessor.utils -   Converting D:\\Train\\425_No_One__Game_of_Thrones_.txt\n",
      "05/11/2021 22:22:51 - INFO - haystack.preprocessor.utils -   Converting D:\\Train\\435_White_Walker.txt\n",
      "05/11/2021 22:22:51 - INFO - haystack.preprocessor.utils -   Converting D:\\Train\\439_Melisandre.txt\n",
      "05/11/2021 22:22:51 - INFO - haystack.preprocessor.utils -   Converting D:\\Train\\43_Arya_Stark.txt\n",
      "05/11/2021 22:22:51 - INFO - haystack.preprocessor.utils -   Converting D:\\Train\\442_Game_of_Thrones__season_1_.txt\n",
      "05/11/2021 22:22:51 - INFO - haystack.preprocessor.utils -   Converting D:\\Train\\443_The_Kingsroad.txt\n",
      "05/11/2021 22:22:51 - INFO - haystack.preprocessor.utils -   Converting D:\\Train\\444_Cripples__Bastards__and_Broken_Things.txt\n",
      "05/11/2021 22:22:51 - INFO - haystack.preprocessor.utils -   Converting D:\\Train\\445_The_Wolf_and_the_Lion.txt\n",
      "05/11/2021 22:22:51 - INFO - haystack.preprocessor.utils -   Converting D:\\Train\\446_A_Golden_Crown.txt\n",
      "05/11/2021 22:22:51 - INFO - haystack.preprocessor.utils -   Converting D:\\Train\\447_You_Win_or_You_Die.txt\n",
      "05/11/2021 22:22:51 - INFO - haystack.preprocessor.utils -   Converting D:\\Train\\449_The_Pointy_End.txt\n",
      "05/11/2021 22:22:51 - INFO - haystack.preprocessor.utils -   Converting D:\\Train\\44_Daenerys_Targaryen.txt\n",
      "05/11/2021 22:22:51 - INFO - haystack.preprocessor.utils -   Converting D:\\Train\\450_Baelor.txt\n",
      "05/11/2021 22:22:51 - INFO - haystack.preprocessor.utils -   Converting D:\\Train\\452_Fire_and_Blood__Game_of_Thrones_.txt\n",
      "05/11/2021 22:22:51 - INFO - haystack.preprocessor.utils -   Converting D:\\Train\\453_Game_of_Thrones__2012_video_game_.txt\n",
      "05/11/2021 22:22:51 - INFO - haystack.preprocessor.utils -   Converting D:\\Train\\454_Music_of_Game_of_Thrones.txt\n",
      "05/11/2021 22:22:51 - INFO - haystack.preprocessor.utils -   Converting D:\\Train\\456_Works_based_on_A_Song_of_Ice_and_Fire.txt\n",
      "05/11/2021 22:22:51 - INFO - haystack.preprocessor.utils -   Converting D:\\Train\\460_Battle_of_the_Bastards.txt\n",
      "05/11/2021 22:22:51 - INFO - haystack.preprocessor.utils -   Converting D:\\Train\\461_The_Winds_of_Winter__Game_of_Thrones_.txt\n",
      "05/11/2021 22:22:51 - INFO - haystack.preprocessor.utils -   Converting D:\\Train\\469_Outline_of_A_Song_of_Ice_and_Fire_franchise.txt\n",
      "05/11/2021 22:22:51 - INFO - haystack.preprocessor.utils -   Converting D:\\Train\\474_Bronn__character_.txt\n",
      "05/11/2021 22:22:51 - INFO - haystack.preprocessor.utils -   Converting D:\\Train\\475_A_Game_of_Thrones__role-playing_game_.txt\n",
      "05/11/2021 22:22:52 - INFO - haystack.preprocessor.utils -   Converting D:\\Train\\477_A_Dance_with_Dragons.txt\n",
      "05/11/2021 22:22:52 - INFO - haystack.preprocessor.utils -   Converting D:\\Train\\480_Varys.txt\n",
      "05/11/2021 22:22:52 - INFO - haystack.preprocessor.utils -   Converting D:\\Train\\481_Sandor_Clegane.txt\n",
      "05/11/2021 22:22:52 - INFO - haystack.preprocessor.utils -   Converting D:\\Train\\482_Petyr_Baelish.txt\n",
      "05/11/2021 22:22:52 - INFO - haystack.preprocessor.utils -   Converting D:\\Train\\485_Oathkeeper.txt\n",
      "05/11/2021 22:22:52 - INFO - haystack.preprocessor.utils -   Converting D:\\Train\\487_Ramsay_Bolton.txt\n",
      "05/11/2021 22:22:52 - INFO - haystack.preprocessor.utils -   Converting D:\\Train\\488_Brienne_of_Tarth.txt\n",
      "05/11/2021 22:22:52 - INFO - haystack.preprocessor.utils -   Converting D:\\Train\\495_Hodor.txt\n",
      "05/11/2021 22:22:52 - INFO - haystack.preprocessor.utils -   Converting D:\\Train\\501_Khal_Drogo.txt\n"
     ]
    },
    {
     "name": "stderr",
     "output_type": "stream",
     "text": [
      "05/11/2021 22:22:52 - INFO - haystack.preprocessor.utils -   Converting D:\\Train\\504_List_of_A_Song_of_Ice_and_Fire_video_games.txt\n",
      "05/11/2021 22:22:52 - INFO - haystack.preprocessor.utils -   Converting D:\\Train\\506_Game_of_Thrones_Theme.txt\n",
      "05/11/2021 22:22:52 - INFO - haystack.preprocessor.utils -   Converting D:\\Train\\508_A_Game_of_Thrones__Second_Edition__card_game_.txt\n",
      "05/11/2021 22:22:52 - INFO - haystack.preprocessor.utils -   Converting D:\\Train\\511_After_the_Thrones.txt\n",
      "05/11/2021 22:22:52 - INFO - haystack.preprocessor.utils -   Converting D:\\Train\\512_Home__Game_of_Thrones_.txt\n",
      "05/11/2021 22:22:52 - INFO - haystack.preprocessor.utils -   Converting D:\\Train\\513_Oathbreaker__Game_of_Thrones_.txt\n",
      "05/11/2021 22:22:52 - INFO - haystack.preprocessor.utils -   Converting D:\\Train\\514_Book_of_the_Stranger.txt\n",
      "05/11/2021 22:22:52 - INFO - haystack.preprocessor.utils -   Converting D:\\Train\\515_The_Door__Game_of_Thrones_.txt\n",
      "05/11/2021 22:22:52 - INFO - haystack.preprocessor.utils -   Converting D:\\Train\\51_Iron_Throne__A_Song_of_Ice_and_Fire_.txt\n",
      "05/11/2021 22:22:52 - INFO - haystack.preprocessor.utils -   Converting D:\\Train\\52_Catch_the_Throne.txt\n",
      "05/11/2021 22:22:52 - INFO - haystack.preprocessor.utils -   Converting D:\\Train\\53_The_Lion_and_the_Rose.txt\n",
      "05/11/2021 22:22:52 - INFO - haystack.preprocessor.utils -   Converting D:\\Train\\54_Two_Swords__Game_of_Thrones_.txt\n",
      "05/11/2021 22:22:52 - INFO - haystack.preprocessor.utils -   Converting D:\\Train\\55_Breaker_of_Chains.txt\n",
      "05/11/2021 22:22:52 - INFO - haystack.preprocessor.utils -   Converting D:\\Train\\56_First_of_His_Name.txt\n",
      "05/11/2021 22:22:52 - INFO - haystack.preprocessor.utils -   Converting D:\\Train\\57_The_Laws_of_Gods_and_Men.txt\n",
      "05/11/2021 22:22:52 - INFO - haystack.preprocessor.utils -   Converting D:\\Train\\67_Unbowed__Unbent__Unbroken.txt\n",
      "05/11/2021 22:22:52 - INFO - haystack.preprocessor.utils -   Converting D:\\Train\\68_The_Gift__Game_of_Thrones_.txt\n",
      "05/11/2021 22:22:52 - INFO - haystack.preprocessor.utils -   Converting D:\\Train\\69_The_Red_Woman.txt\n",
      "05/11/2021 22:22:52 - INFO - haystack.preprocessor.utils -   Converting D:\\Train\\73_A_Man_Without_Honor.txt\n",
      "05/11/2021 22:22:52 - INFO - haystack.preprocessor.utils -   Converting D:\\Train\\74_The_Prince_of_Winterfell.txt\n",
      "05/11/2021 22:22:52 - INFO - haystack.preprocessor.utils -   Converting D:\\Train\\75_Blackwater__Game_of_Thrones_.txt\n",
      "05/11/2021 22:22:52 - INFO - haystack.preprocessor.utils -   Converting D:\\Train\\76_Valar_Morghulis.txt\n",
      "05/11/2021 22:22:52 - INFO - haystack.preprocessor.utils -   Converting D:\\Train\\77_Game_of_Thrones_Ascent.txt\n",
      "05/11/2021 22:22:52 - INFO - haystack.preprocessor.utils -   Converting D:\\Train\\78_The_Rains_of_Castamere.txt\n",
      "05/11/2021 22:22:52 - INFO - haystack.preprocessor.utils -   Converting D:\\Train\\79_Thronecast.txt\n",
      "05/11/2021 22:22:52 - INFO - haystack.preprocessor.utils -   Converting D:\\Train\\7_The_Spoils_of_War__Game_of_Thrones_.txt\n",
      "05/11/2021 22:22:52 - INFO - haystack.preprocessor.utils -   Converting D:\\Train\\80_A_Song_of_Ice_and_Fire_fandom.txt\n",
      "05/11/2021 22:22:53 - INFO - haystack.preprocessor.utils -   Converting D:\\Train\\84_List_of_awards_and_nominations_received_by_Game_of_Thrones.txt\n",
      "05/11/2021 22:22:53 - INFO - haystack.preprocessor.utils -   Converting D:\\Train\\85_Game_of_Thrones__Seven_Kingdoms.txt\n",
      "05/11/2021 22:22:53 - INFO - haystack.preprocessor.utils -   Converting D:\\Train\\86_Game_of_Thrones__season_4_.txt\n",
      "05/11/2021 22:22:53 - INFO - haystack.preprocessor.utils -   Converting D:\\Train\\87_Valar_Dohaeris.txt\n",
      "05/11/2021 22:22:53 - INFO - haystack.preprocessor.utils -   Converting D:\\Train\\8_Eastwatch.txt\n",
      "05/11/2021 22:22:53 - INFO - haystack.preprocessor.utils -   Converting D:\\Train\\97_Tyrion_Lannister.txt\n",
      "05/11/2021 22:22:53 - INFO - haystack.preprocessor.utils -   Converting D:\\Train\\98_Black_Friday__South_Park_.txt\n",
      "05/11/2021 22:22:53 - INFO - haystack.preprocessor.utils -   Converting D:\\Train\\99_A_Song_of_Ass_and_Fire.txt\n",
      "05/11/2021 22:22:53 - INFO - haystack.preprocessor.utils -   Converting D:\\Train\\9_Game_of_Thrones_Tapestry.txt\n"
     ]
    },
    {
     "name": "stdout",
     "output_type": "stream",
     "text": [
      "[{'text': \"The eighth and final season of the fantasy drama television series ''Game of Thrones'', produced by HBO, premiered on April 14, 2019, and concluded on May 19, 2019. Unlike the first six seasons, which consisted of ten episodes each, and the seventh season, which consisted of seven episodes, the eighth season consists of only six episodes.\\nThe final season depicts the culmination of the series' two primary conflicts: the Great War against the Army of the Dead, and the Last War for control of the Iron Throne. The first half of the season involves many of the main characters converging at Winterfell with their armies in an effort to repel the Night King and his army of White Walkers and wights. The second half of the season resumes the war for the throne as Daenerys Targaryen assaults King's Landing in an attempt to unseat Cersei Lannister as the ruler of the Seven Kingdoms.\\nThe season was filmed from October 2017 to July 2018 and largely consists of original content not found in George R. R. Martin's ''A Song of Ice and Fire'' series, while also incorporating material that Martin has revealed to showrunners about the upcoming novels in the series, ''The Winds of Winter'' and ''A Dream of Spring''. The season was adapted for television by David Benioff and D. B. Weiss.\\nThe season received mixed reviews from critics, in contrast to critical acclaim of previous seasons, and is the lowest-rated of the series on the website Rotten Tomatoes. Criticism was mainly directed at the condensed story and shorter runtime of the season, as well as numerous creative decisions made by the showrunners, though the acting, directing, production, and musical score were highly praised.\\nThe season received 32 nominations at the 71st Primetime Emmy Awards, the most for a single season of television in history. It won for Outstanding Drama Series and Peter Dinklage won for Outstanding Supporting Actor in a Drama Series.\", 'meta': {'name': '0_Game_of_Thrones__season_8_.txt'}}, {'text': '\\n===Main cast===\\n* Peter Dinklage as Tyrion Lannister\\n* Nikolaj Coster-Waldau as Jaime Lannister\\n* Lena Headey as Cersei Lannister\\n* Emilia Clarke as Daenerys Targaryen\\n* Maisie Williams as Arya Stark\\n* Liam Cunningham as Davos Seaworth\\n* Nathalie Emmanuel as Missandei\\n* John Bradley as Samwell Tarly\\n* Isaac Hempstead Wright as Bran Stark\\n* Gwendoline Christie as Brienne of Tarth\\n* Rory McCann as Sandor \"The Hound\" Clegane\\n* Kristofer Hivju as Tormund Giantsbane\\n* Carice van Houten as Melisandre', 'meta': {'name': '0_Game_of_Thrones__season_8_.txt'}}, {'text': '\\n===Recurring cast===\\nThe recurring actors listed here are those who appeared in season 8. They are listed by the region in which they first appear.', 'meta': {'name': '0_Game_of_Thrones__season_8_.txt'}}]\n"
     ]
    },
    {
     "name": "stderr",
     "output_type": "stream",
     "text": [
      "05/11/2021 22:22:55 - INFO - elasticsearch -   POST http://localhost:9200/_bulk?refresh=wait_for [status:200 request:2.314s]\n",
      "05/11/2021 22:22:57 - INFO - elasticsearch -   POST http://localhost:9200/_bulk?refresh=wait_for [status:200 request:1.151s]\n",
      "05/11/2021 22:22:58 - INFO - elasticsearch -   POST http://localhost:9200/_bulk?refresh=wait_for [status:200 request:1.106s]\n",
      "05/11/2021 22:22:59 - INFO - elasticsearch -   POST http://localhost:9200/_bulk?refresh=wait_for [status:200 request:1.145s]\n",
      "05/11/2021 22:23:00 - INFO - elasticsearch -   POST http://localhost:9200/_bulk?refresh=wait_for [status:200 request:1.096s]\n"
     ]
    }
   ],
   "source": [
    "# Let's first fetch some documents that we want to query\n",
    "# Here: 517 Wikipedia articles for Game of Thrones\n",
    "doc_dir = \"D:\\\\Train\\\\\"\n",
    "#s3_url = \"https://s3.eu-central-1.amazonaws.com/deepset.ai-farm-qa/datasets/documents/wiki_gameofthrones_txt.zip\"\n",
    "#fetch_archive_from_http(url=s3_url, output_dir=doc_dir)\n",
    "\n",
    "# Convert files to dicts\n",
    "# You can optionally supply a cleaning function that is applied to each doc (e.g. to remove footers)\n",
    "# It must take a str as input, and return a str.\n",
    "dicts = convert_files_to_dicts(dir_path=doc_dir, clean_func=clean_wiki_text, split_paragraphs=True)\n",
    "\n",
    "# We now have a list of dictionaries that we can write to our document store.\n",
    "# If your texts come from a different source (e.g. a DB), you can of course skip convert_files_to_dicts() and create the dictionaries yourself.\n",
    "# The default format here is:\n",
    "# {\n",
    "#    'text': \"<DOCUMENT_TEXT_HERE>\",\n",
    "#    'meta': {'name': \"<DOCUMENT_NAME_HERE>\", ...}\n",
    "#}\n",
    "# (Optionally: you can also add more key-value-pairs here, that will be indexed as fields in Elasticsearch and\n",
    "# can be accessed later for filtering or shown in the responses of the Finder)\n",
    "\n",
    "# Let's have a look at the first 3 entries:\n",
    "print(dicts[:3])\n",
    "\n",
    "# Now, let's write the dicts containing documents to our DB.\n",
    "document_store.write_documents(dicts)"
   ]
  },
  {
   "cell_type": "markdown",
   "metadata": {},
   "source": [
    "## Initalize Retriever, Reader,  & Finder\n",
    "\n",
    "### Retriever\n",
    "\n",
    "Retrievers help narrowing down the scope for the Reader to smaller units of text where a given question could be answered.\n",
    "They use some simple but fast algorithm.\n",
    "\n",
    "**Here:** We use Elasticsearch's default BM25 algorithm\n",
    "\n",
    "**Alternatives:**\n",
    "\n",
    "- Customize the `ElasticsearchRetriever`with custom queries (e.g. boosting) and filters\n",
    "- Use `TfidfRetriever` in combination with a SQL or InMemory Document store for simple prototyping and debugging\n",
    "- Use `EmbeddingRetriever` to find candidate documents based on the similarity of embeddings (e.g. created via Sentence-BERT)\n",
    "- Use `DensePassageRetriever` to use different embedding models for passage and query (see Tutorial 6)"
   ]
  },
  {
   "cell_type": "code",
   "execution_count": 6,
   "metadata": {},
   "outputs": [],
   "source": [
    "from haystack.retriever.sparse import ElasticsearchRetriever\n",
    "retriever = ElasticsearchRetriever(document_store=document_store)"
   ]
  },
  {
   "cell_type": "code",
   "execution_count": 7,
   "metadata": {
    "pycharm": {
     "is_executing": false,
     "name": "#%%\n"
    }
   },
   "outputs": [],
   "source": [
    "# Alternative: An in-memory TfidfRetriever based on Pandas dataframes for building quick-prototypes with SQLite document store.\n",
    "\n",
    "# from haystack.retriever.sparse import TfidfRetriever\n",
    "# retriever = TfidfRetriever(document_store=document_store)"
   ]
  },
  {
   "cell_type": "markdown",
   "metadata": {},
   "source": [
    "### Reader\n",
    "\n",
    "A Reader scans the texts returned by retrievers in detail and extracts the k best answers. They are based\n",
    "on powerful, but slower deep learning models.\n",
    "\n",
    "Haystack currently supports Readers based on the frameworks FARM and Transformers.\n",
    "With both you can either load a local model or one from Hugging Face's model hub (https://huggingface.co/models).\n",
    "\n",
    "**Here:** a medium sized RoBERTa QA model using a Reader based on FARM (https://huggingface.co/deepset/roberta-base-squad2)\n",
    "\n",
    "**Alternatives (Reader):** TransformersReader (leveraging the `pipeline` of the Transformers package)\n",
    "\n",
    "**Alternatives (Models):** e.g. \"distilbert-base-uncased-distilled-squad\" (fast) or \"deepset/bert-large-uncased-whole-word-masking-squad2\" (good accuracy)\n",
    "\n",
    "**Hint:** You can adjust the model to return \"no answer possible\" with the no_ans_boost. Higher values mean the model prefers \"no answer possible\"\n",
    "\n",
    "#### FARMReader"
   ]
  },
  {
   "cell_type": "code",
   "execution_count": 8,
   "metadata": {
    "pycharm": {
     "is_executing": false
    }
   },
   "outputs": [
    {
     "name": "stderr",
     "output_type": "stream",
     "text": [
      "05/11/2021 22:23:08 - INFO - farm.utils -   device: cpu n_gpu: 0, distributed training: False, automatic mixed precision training: None\n",
      "05/11/2021 22:23:08 - INFO - farm.infer -   Could not find `deepset/roberta-base-squad2` locally. Try to download from model hub ...\n",
      "Some weights of RobertaModel were not initialized from the model checkpoint at deepset/roberta-base-squad2 and are newly initialized: ['roberta.pooler.dense.weight', 'roberta.pooler.dense.bias']\n",
      "You should probably TRAIN this model on a down-stream task to be able to use it for predictions and inference.\n",
      "05/11/2021 22:23:31 - WARNING - farm.modeling.language_model -   Could not automatically detect from language model name what language it is. \n",
      "\t We guess it's an *ENGLISH* model ... \n",
      "\t If not: Init the language model by supplying the 'language' param.\n",
      "05/11/2021 22:24:07 - INFO - farm.utils -   device: cpu n_gpu: 0, distributed training: False, automatic mixed precision training: None\n",
      "05/11/2021 22:24:07 - INFO - farm.infer -   Got ya 7 parallel workers to do inference ...\n",
      "05/11/2021 22:24:08 - INFO - farm.infer -    0    0    0    0    0    0    0 \n",
      "05/11/2021 22:24:08 - INFO - farm.infer -   /w\\  /w\\  /w\\  /w\\  /w\\  /w\\  /w\\\n",
      "05/11/2021 22:24:08 - INFO - farm.infer -   /'\\  / \\  /'\\  /'\\  / \\  / \\  /'\\\n",
      "05/11/2021 22:24:08 - INFO - farm.infer -               \n"
     ]
    }
   ],
   "source": [
    "# Load a  local model or any of the QA models on\n",
    "# Hugging Face's model hub (https://huggingface.co/models)\n",
    "\n",
    "reader = FARMReader(model_name_or_path=\"deepset/roberta-base-squad2\", use_gpu=False)"
   ]
  },
  {
   "cell_type": "markdown",
   "metadata": {},
   "source": [
    "#### TransformersReader"
   ]
  },
  {
   "cell_type": "code",
   "execution_count": 9,
   "metadata": {},
   "outputs": [],
   "source": [
    "# Alternative:\n",
    "# reader = TransformersReader(model_name_or_path=\"distilbert-base-uncased-distilled-squad\", tokenizer=\"distilbert-base-uncased\", use_gpu=-1)"
   ]
  },
  {
   "cell_type": "markdown",
   "metadata": {},
   "source": [
    "### Finder\n",
    "\n",
    "The Finder sticks together reader and retriever in a pipeline to answer our actual questions. "
   ]
  },
  {
   "cell_type": "code",
   "execution_count": 10,
   "metadata": {
    "pycharm": {
     "is_executing": false
    }
   },
   "outputs": [],
   "source": [
    "finder = Finder(reader, retriever)"
   ]
  },
  {
   "cell_type": "markdown",
   "metadata": {},
   "source": [
    "## Voilà! Ask a question!"
   ]
  },
  {
   "cell_type": "code",
   "execution_count": 11,
   "metadata": {
    "pycharm": {
     "is_executing": false
    }
   },
   "outputs": [
    {
     "name": "stderr",
     "output_type": "stream",
     "text": [
      "05/11/2021 22:24:21 - INFO - elasticsearch -   POST http://localhost:9200/document/_search [status:200 request:0.186s]\n",
      "05/11/2021 22:24:21 - INFO - haystack.finder -   Got 5 candidates from retriever\n",
      "05/11/2021 22:24:21 - INFO - haystack.finder -   Reader is looking for detailed answer in 4151 chars ...\n",
      "Inferencing Samples: 100%|█████████████████████████████████████████████████████████| 1/1 [00:04<00:00,  4.13s/ Batches]\n",
      "Inferencing Samples: 100%|█████████████████████████████████████████████████████████| 1/1 [00:03<00:00,  3.29s/ Batches]\n",
      "Inferencing Samples: 100%|█████████████████████████████████████████████████████████| 1/1 [00:00<00:00,  1.03 Batches/s]\n",
      "Inferencing Samples: 100%|█████████████████████████████████████████████████████████| 1/1 [00:01<00:00,  1.15s/ Batches]\n",
      "Inferencing Samples: 100%|█████████████████████████████████████████████████████████| 1/1 [00:00<00:00,  1.17 Batches/s]\n"
     ]
    },
    {
     "name": "stdout",
     "output_type": "stream",
     "text": [
      "71.70610094070435\n"
     ]
    }
   ],
   "source": [
    "# You can configure how many candidates the reader and retriever shall return\n",
    "# The higher top_k_retriever, the better (but also the slower) your answers. \n",
    "import time\n",
    "top_k_retriever = 5 #>= reader\n",
    "top_k_reader = 5\n",
    "start = time.time()\n",
    "prediction = finder.get_answers(question=\"father of Arya Stark\", top_k_retriever=top_k_retriever, top_k_reader=top_k_reader)\n",
    "end = time.time()\n",
    "print(end - start)"
   ]
  },
  {
   "cell_type": "code",
   "execution_count": 12,
   "metadata": {},
   "outputs": [],
   "source": [
    "# prediction = finder.get_answers(question=\"Who created the Dothraki vocabulary?\", top_k_reader=5)\n",
    "# prediction = finder.get_answers(question=\"Who is the sister of Sansa?\", top_k_reader=5)"
   ]
  },
  {
   "cell_type": "code",
   "execution_count": 14,
   "metadata": {
    "pycharm": {
     "is_executing": false,
     "name": "#%%\n"
    }
   },
   "outputs": [
    {
     "name": "stdout",
     "output_type": "stream",
     "text": [
      "[   {   'answer': 'Lord Eddard Stark',\n",
      "        'context': 'ark daughters.\\n'\n",
      "                   'During the Tourney of the Hand to honour her father Lord '\n",
      "                   'Eddard Stark, Sansa Stark is enchanted by the knights '\n",
      "                   'performing in the event.'},\n",
      "    {   'answer': 'Eddard \"Ned\" Stark',\n",
      "        'context': '=\\n'\n",
      "                   \"After Varys tells him that Sansa Stark's life is also at \"\n",
      "                   'stake, Eddard \"Ned\" Stark agrees to make a false '\n",
      "                   'confession and swear loyalty to King Joffr'},\n",
      "    {   'answer': 'Joffrey',\n",
      "        'context': 'laying with one of his wooden toys.\\n'\n",
      "                   \"After Eddard discovers the truth of Joffrey's paternity, \"\n",
      "                   'he tells Sansa that they will be heading back to Winterfe'},\n",
      "    {   'answer': 'Robb',\n",
      "        'context': 'allow the army to cross the river and to commit his troops '\n",
      "                   'in return for Robb and Arya Stark marrying two of his '\n",
      "                   'children.\\n'\n",
      "                   'Tyrion Lannister suspects h'},\n",
      "    {   'answer': 'Jeyne Poole',\n",
      "        'context': 'men Baratheon legitimizes Ramsay as a Bolton. The '\n",
      "                   'Lannisters pass off Jeyne Poole as Arya Stark and send her '\n",
      "                   'north to be betrothed to Ramsay, with onl'}]\n"
     ]
    }
   ],
   "source": [
    "print_answers(prediction, details=\"minimal\")"
   ]
  },
  {
   "cell_type": "code",
   "execution_count": 15,
   "metadata": {},
   "outputs": [
    {
     "name": "stdout",
     "output_type": "stream",
     "text": [
      "father of Arya Stark\n"
     ]
    }
   ],
   "source": [
    "print(prediction['question'])"
   ]
  },
  {
   "cell_type": "code",
   "execution_count": 16,
   "metadata": {},
   "outputs": [
    {
     "name": "stdout",
     "output_type": "stream",
     "text": [
      "father of Arya Stark\n"
     ]
    }
   ],
   "source": [
    "print(str(prediction['question']+'\\n'), end='')"
   ]
  },
  {
   "cell_type": "code",
   "execution_count": 17,
   "metadata": {},
   "outputs": [
    {
     "name": "stdout",
     "output_type": "stream",
     "text": [
      "Answer 1 : Lord Eddard Stark\n",
      "Probabilty : 0.8016192392167827\n",
      "Retriever Score : 11.171564102172852\n",
      "File Name : 332_Sansa_Stark.txt\n",
      "Context : ark daughters.\n",
      "During the Tourney of the Hand to honour her father Lord Eddard Stark, Sansa Stark is enchanted by the knights performing in the event.\n",
      "------------------------------------------------------------------\n",
      "Answer 2 : Eddard \"Ned\" Stark\n",
      "Probabilty : 0.68251427376839\n",
      "Retriever Score : 6.122804641723633\n",
      "File Name : 450_Baelor.txt\n",
      "Context : =\n",
      "After Varys tells him that Sansa Stark's life is also at stake, Eddard \"Ned\" Stark agrees to make a false confession and swear loyalty to King Joffr\n",
      "------------------------------------------------------------------\n",
      "Answer 3 : Joffrey\n",
      "Probabilty : 0.5400726989370918\n",
      "Retriever Score : 1.2850825786590576\n",
      "File Name : 332_Sansa_Stark.txt\n",
      "Context : laying with one of his wooden toys.\n",
      "After Eddard discovers the truth of Joffrey's paternity, he tells Sansa that they will be heading back to Winterfe\n",
      "------------------------------------------------------------------\n",
      "Answer 4 : Robb\n",
      "Probabilty : 0.5249973069974297\n",
      "Retriever Score : 0.8005812764167786\n",
      "File Name : 450_Baelor.txt\n",
      "Context : allow the army to cross the river and to commit his troops in return for Robb and Arya Stark marrying two of his children.\n",
      "Tyrion Lannister suspects h\n",
      "------------------------------------------------------------------\n",
      "Answer 5 : Jeyne Poole\n",
      "Probabilty : 0.5075990554733993\n",
      "Retriever Score : 0.2431885004043579\n",
      "File Name : 487_Ramsay_Bolton.txt\n",
      "Context : men Baratheon legitimizes Ramsay as a Bolton. The Lannisters pass off Jeyne Poole as Arya Stark and send her north to be betrothed to Ramsay, with onl\n",
      "------------------------------------------------------------------\n"
     ]
    }
   ],
   "source": [
    "for i in range(5):\n",
    "    print('Answer ' + str(i + 1) + ' : ' + str(prediction['answers'][i]['answer']) + '\\n' + 'Probabilty : ' + str(prediction['answers'][i]['probability']) + '\\n' + 'Retriever Score : ' +  str(prediction['answers'][i]['score']) + '\\n' + 'File Name : ' + str(prediction['answers'][i]['meta']['name']) + '\\n' + 'Context : ' + str(prediction['answers'][i]['context']) + '\\n------------------------------------------------------------------')"
   ]
  },
  {
   "cell_type": "code",
   "execution_count": 17,
   "metadata": {},
   "outputs": [
    {
     "data": {
      "text/plain": [
       "{'question': 'Who is the father of Arya Stark?',\n",
       " 'no_ans_gap': 10.62626028060913,\n",
       " 'answers': [{'answer': 'Ned',\n",
       "   'score': 13.965742111206055,\n",
       "   'probability': 0.8514118724143873,\n",
       "   'context': \"\\n====Season 1====\\nArya accompanies her father Ned and her sister Sansa to King's Landing. Before their departure, Arya's half-brother Jon Snow gifts A\",\n",
       "   'offset_start': 46,\n",
       "   'offset_end': 49,\n",
       "   'offset_start_in_doc': 46,\n",
       "   'offset_end_in_doc': 49,\n",
       "   'document_id': '1f0175a9-7903-434a-b8f5-e9a1296ee61f',\n",
       "   'meta': {'name': '43_Arya_Stark.txt'}},\n",
       "  {'answer': 'Lord Eddard Stark',\n",
       "   'score': 13.761412620544434,\n",
       "   'probability': 0.8481515792507891,\n",
       "   'context': 'ark daughters.\\nDuring the Tourney of the Hand to honour her father Lord Eddard Stark, Sansa Stark is enchanted by the knights performing in the event.',\n",
       "   'offset_start': 67,\n",
       "   'offset_end': 84,\n",
       "   'offset_start_in_doc': 659,\n",
       "   'offset_end_in_doc': 676,\n",
       "   'document_id': '82486106-301e-47af-b74b-ae7fd0f90750',\n",
       "   'meta': {'name': '332_Sansa_Stark.txt'}},\n",
       "  {'answer': 'Joffrey',\n",
       "   'score': 11.461076736450195,\n",
       "   'probability': 0.8073114838413451,\n",
       "   'context': \"laying with one of his wooden toys.\\nAfter Eddard discovers the truth of Joffrey's paternity, he tells Sansa that they will be heading back to Winterfe\",\n",
       "   'offset_start': 72,\n",
       "   'offset_end': 79,\n",
       "   'offset_start_in_doc': 1161,\n",
       "   'offset_end_in_doc': 1168,\n",
       "   'document_id': '82486106-301e-47af-b74b-ae7fd0f90750',\n",
       "   'meta': {'name': '332_Sansa_Stark.txt'}},\n",
       "  {'answer': 'Robb',\n",
       "   'score': 8.59808349609375,\n",
       "   'probability': 0.7455011647107602,\n",
       "   'context': 'allow the army to cross the river and to commit his troops in return for Robb and Arya Stark marrying two of his children.\\nTyrion Lannister suspects h',\n",
       "   'offset_start': 73,\n",
       "   'offset_end': 77,\n",
       "   'offset_start_in_doc': 193,\n",
       "   'offset_end_in_doc': 197,\n",
       "   'document_id': '962fe924-1292-4cc6-bf35-97a6447019e9',\n",
       "   'meta': {'name': '450_Baelor.txt'}},\n",
       "  {'answer': 'Ned',\n",
       "   'score': 8.489703178405762,\n",
       "   'probability': 0.7429222633160527,\n",
       "   'context': \"rya to reveal her true identity, and is surprised to learn she is in fact Ned Stark's daughter. After the Goldcloaks get help from Ser Amory Lorch and\",\n",
       "   'offset_start': 74,\n",
       "   'offset_end': 77,\n",
       "   'offset_start_in_doc': 524,\n",
       "   'offset_end_in_doc': 527,\n",
       "   'document_id': 'ed5d4e52-cf0e-4f91-925b-c89088ff338f',\n",
       "   'meta': {'name': '191_Gendry.txt'}}]}"
      ]
     },
     "execution_count": 17,
     "metadata": {},
     "output_type": "execute_result"
    }
   ],
   "source": [
    "prediction"
   ]
  },
  {
   "cell_type": "code",
   "execution_count": 24,
   "metadata": {},
   "outputs": [
    {
     "name": "stderr",
     "output_type": "stream",
     "text": [
      "05/11/2021 17:13:06 - INFO - elasticsearch -   POST http://localhost:9200/document/_search [status:200 request:0.037s]\n",
      "05/11/2021 17:13:06 - INFO - haystack.finder -   Got 5 candidates from retriever\n",
      "05/11/2021 17:13:06 - INFO - haystack.finder -   Reader is looking for detailed answer in 13447 chars ...\n",
      "Inferencing Samples: 100%|█████████████████████████████████████████████████████████| 1/1 [00:01<00:00,  1.69s/ Batches]\n",
      "Inferencing Samples: 100%|█████████████████████████████████████████████████████████| 1/1 [00:00<00:00,  1.99 Batches/s]\n",
      "Inferencing Samples: 100%|█████████████████████████████████████████████████████████| 1/1 [00:03<00:00,  3.14s/ Batches]\n",
      "Inferencing Samples: 100%|█████████████████████████████████████████████████████████| 1/1 [00:01<00:00,  1.40s/ Batches]\n",
      "Inferencing Samples: 100%|█████████████████████████████████████████████████████████| 1/1 [00:04<00:00,  4.37s/ Batches]"
     ]
    },
    {
     "name": "stdout",
     "output_type": "stream",
     "text": [
      "11.525610208511353\n"
     ]
    },
    {
     "name": "stderr",
     "output_type": "stream",
     "text": [
      "\n"
     ]
    }
   ],
   "source": [
    "start = time.time()\n",
    "prediction1 = finder.get_answers(question=\"Who is the sister of Sansa?\", top_k_retriever=top_k_retriever, top_k_reader=top_k_reader)\n",
    "end = time.time()\n",
    "print(end - start)"
   ]
  },
  {
   "cell_type": "code",
   "execution_count": 20,
   "metadata": {},
   "outputs": [
    {
     "name": "stdout",
     "output_type": "stream",
     "text": [
      "[   {   'answer': 'Arya',\n",
      "        'context': \"denotes weakness. She doesn't have cool swordplay skills \"\n",
      "                   \"like her sister Arya; she isn't a smart seductress like \"\n",
      "                   'Margaery Tyrell or a fierce queen lik'},\n",
      "    {   'answer': 'Arya',\n",
      "        'context': 'n contrast to \"her universally (and rightly) adored tomboy '\n",
      "                   'little sister Arya\", stating that Sansa \"arguably gets a '\n",
      "                   'disproportionate amount of fan hat'},\n",
      "    {   'answer': 'Arya Stark',\n",
      "        'context': ' at the beginning of the series. She was raised with a '\n",
      "                   'younger sister Arya Stark, two younger brothers Rickon '\n",
      "                   'Stark and Bran Stark, as well as an olde'},\n",
      "    {   'answer': 'Margaery',\n",
      "        'context': \"hom she hopes will ask for her hand. His sister, Joffrey's \"\n",
      "                   'new fiancé, Margaery, is also kind to her and takes her to '\n",
      "                   'dine with her grandmother, Olenn'},\n",
      "    {   'answer': 'Brienne of Tarth',\n",
      "        'context': 'busive husband Ramsay Bolton. Tormund becomes quickly '\n",
      "                   'attracted to Brienne of Tarth and attempts to court her, '\n",
      "                   \"although she doesn't seem interested by\"}]\n"
     ]
    }
   ],
   "source": [
    "print_answers(prediction1, details=\"minimal\")"
   ]
  },
  {
   "cell_type": "code",
   "execution_count": 21,
   "metadata": {},
   "outputs": [
    {
     "name": "stdout",
     "output_type": "stream",
     "text": [
      "Answer 1 : Arya\n",
      "Probabilty : 0.8302002114387067\n",
      "Retriever Score : 12.696374893188477\n",
      "File Name : 332_Sansa_Stark.txt\n",
      "Context : denotes weakness. She doesn't have cool swordplay skills like her sister Arya; she isn't a smart seductress like Margaery Tyrell or a fierce queen lik\n",
      "------------------------------------------------------------------\n",
      "Answer 2 : Arya\n",
      "Probabilty : 0.8129394055716899\n",
      "Retriever Score : 11.753791809082031\n",
      "File Name : 332_Sansa_Stark.txt\n",
      "Context : n contrast to \"her universally (and rightly) adored tomboy little sister Arya\", stating that Sansa \"arguably gets a disproportionate amount of fan hat\n",
      "------------------------------------------------------------------\n",
      "Answer 3 : Arya Stark\n",
      "Probabilty : 0.7988619658918419\n",
      "Retriever Score : 11.033574104309082\n",
      "File Name : 332_Sansa_Stark.txt\n",
      "Context :  at the beginning of the series. She was raised with a younger sister Arya Stark, two younger brothers Rickon Stark and Bran Stark, as well as an olde\n",
      "------------------------------------------------------------------\n",
      "Answer 4 : Margaery\n",
      "Probabilty : 0.7322320406376471\n",
      "Retriever Score : 8.047813415527344\n",
      "File Name : 332_Sansa_Stark.txt\n",
      "Context : hom she hopes will ask for her hand. His sister, Joffrey's new fiancé, Margaery, is also kind to her and takes her to dine with her grandmother, Olenn\n",
      "------------------------------------------------------------------\n",
      "Answer 5 : Brienne of Tarth\n",
      "Probabilty : 0.6780626968985626\n",
      "Retriever Score : 5.959063529968262\n",
      "File Name : 263_Tormund_Giantsbane.txt\n",
      "Context : busive husband Ramsay Bolton. Tormund becomes quickly attracted to Brienne of Tarth and attempts to court her, although she doesn't seem interested by\n",
      "------------------------------------------------------------------\n"
     ]
    }
   ],
   "source": [
    "for i in range(5):\n",
    "    print('Answer ' + str(i + 1) + ' : ' + str(prediction1['answers'][i]['answer']) + '\\n' + 'Probabilty : ' + str(prediction1['answers'][i]['probability']) + '\\n' + 'Retriever Score : ' +  str(prediction1['answers'][i]['score']) + '\\n' + 'File Name : ' + str(prediction1['answers'][i]['meta']['name']) + '\\n' + 'Context : ' + str(prediction1['answers'][i]['context']) + '\\n------------------------------------------------------------------')"
   ]
  },
  {
   "cell_type": "code",
   "execution_count": 22,
   "metadata": {},
   "outputs": [],
   "source": [
    "import time"
   ]
  },
  {
   "cell_type": "code",
   "execution_count": 32,
   "metadata": {},
   "outputs": [
    {
     "name": "stderr",
     "output_type": "stream",
     "text": [
      "03/30/2021 21:10:01 - INFO - elasticsearch -   POST http://localhost:9200/document/_search [status:200 request:0.022s]\n",
      "03/30/2021 21:10:01 - INFO - haystack.finder -   Got 5 candidates from retriever\n",
      "03/30/2021 21:10:01 - INFO - haystack.finder -   Reader is looking for detailed answer in 3973 chars ...\n",
      "Inferencing Samples: 100%|█████████████████████████████████████████████████████████| 1/1 [00:00<00:00,  1.16 Batches/s]\n",
      "Inferencing Samples: 100%|█████████████████████████████████████████████████████████| 1/1 [00:00<00:00,  1.45 Batches/s]\n",
      "Inferencing Samples: 100%|█████████████████████████████████████████████████████████| 1/1 [00:00<00:00,  1.49 Batches/s]\n",
      "Inferencing Samples: 100%|█████████████████████████████████████████████████████████| 1/1 [00:00<00:00,  1.43 Batches/s]\n",
      "Inferencing Samples: 100%|█████████████████████████████████████████████████████████| 1/1 [00:00<00:00,  1.37 Batches/s]"
     ]
    },
    {
     "name": "stdout",
     "output_type": "stream",
     "text": [
      "4.305827856063843\n"
     ]
    },
    {
     "name": "stderr",
     "output_type": "stream",
     "text": [
      "\n"
     ]
    }
   ],
   "source": [
    "start = time.time()\n",
    "prediction2 = finder.get_answers(question=\"Who created the Dothraki vocabulary?\",  top_k_retriever=top_k_retriever, top_k_reader=top_k_reader)\n",
    "end = time.time()\n",
    "print(end - start)\n"
   ]
  },
  {
   "cell_type": "code",
   "execution_count": 25,
   "metadata": {},
   "outputs": [
    {
     "name": "stdout",
     "output_type": "stream",
     "text": [
      "[   {   'answer': 'David J. Peterson',\n",
      "        'context': \"age for ''Game of Thrones''\\n\"\n",
      "                   'The Dothraki vocabulary was created by David J. Peterson '\n",
      "                   'well in advance of the adaptation. HBO hired the Language '\n",
      "                   'Creatio'},\n",
      "    {   'answer': 'David J. Peterson',\n",
      "        'context': '\\n'\n",
      "                   '===Valyrian===\\n'\n",
      "                   'David J. Peterson, who created the Dothraki language for '\n",
      "                   'the first season of the show, was entrusted by the '\n",
      "                   'producers to design a new '},\n",
      "    {   'answer': 'David J. Peterson',\n",
      "        'context': ' but not developed beyond a few words. For the TV series, '\n",
      "                   'linguist David J. Peterson created the High Valyrian '\n",
      "                   'language, as well as the derivative lan'},\n",
      "    {   'answer': 'Ghiscari',\n",
      "        'context': 'anguages, descended from High Valyrian with the substrate '\n",
      "                   'of the local Ghiscari languages. Peterson noted that with '\n",
      "                   'regard to the vocabulary of the de'},\n",
      "    {   'answer': '====Lhazar====\\n'\n",
      "                  'Lhazar is an area of the semi-arid lands south of the '\n",
      "                  'Dothraki Sea. A region of pastures and hills, it is '\n",
      "                  'inhabited by the Lhazareen, a peaceful people with bronze '\n",
      "                  'skin, flat faces, and almond eyes. They are predominantly '\n",
      "                  'shepherds, called the Lamb Men by the Dothraki, who '\n",
      "                  'frequently prey on them. They worship a god called the '\n",
      "                  'Great Shepherd and believe that all of humanity is part of '\n",
      "                  'a single flock. The scenes at the village of the Lamb Men '\n",
      "                  'that is sacked by the Dothraki were filmed in Malta, at the '\n",
      "                  'farming town of Manikata.',\n",
      "        'context': '====Lhazar====\\n'\n",
      "                   'Lhazar is an area of the semi-arid lands south of the '\n",
      "                   'Dothraki Sea. A region of pastures and hills, it is '\n",
      "                   'inhabited by the Lhazareen, a peaceful people with bronze '\n",
      "                   'skin, flat faces, and almond eyes. They are predominantly '\n",
      "                   'shepherds, called the Lamb Men by the Dothraki, who '\n",
      "                   'frequently prey on them. They worship a god called the '\n",
      "                   'Great Shepherd and believe that all of humanity is part of '\n",
      "                   'a single flock. The scenes at the village of the Lamb Men '\n",
      "                   'that is sacked by the Dothraki were filmed in Malta, at '\n",
      "                   'the farming town of Manikata.'}]\n"
     ]
    }
   ],
   "source": [
    "print_answers(prediction2, details=\"minimal\")"
   ]
  },
  {
   "cell_type": "code",
   "execution_count": 26,
   "metadata": {},
   "outputs": [
    {
     "name": "stdout",
     "output_type": "stream",
     "text": [
      "Answer 1 : David J. Peterson\n",
      "Probabilty : 0.8093757182427538\n",
      "Retriever Score : 11.567670822143555\n",
      "File Name : 214_Dothraki_language.txt\n",
      "Context : age for ''Game of Thrones''\n",
      "The Dothraki vocabulary was created by David J. Peterson well in advance of the adaptation. HBO hired the Language Creatio\n",
      "------------------------------------------------------------------\n",
      "Answer 2 : David J. Peterson\n",
      "Probabilty : 0.8056866904115011\n",
      "Retriever Score : 11.377784729003906\n",
      "File Name : 87_Valar_Dohaeris.txt\n",
      "Context : \n",
      "===Valyrian===\n",
      "David J. Peterson, who created the Dothraki language for the first season of the show, was entrusted by the producers to design a new \n",
      "------------------------------------------------------------------\n",
      "Answer 3 : David J. Peterson\n",
      "Probabilty : 0.4723144998461879\n",
      "Retriever Score : -0.8868430852890015\n",
      "File Name : 213_Valyrian_languages.txt\n",
      "Context :  but not developed beyond a few words. For the TV series, linguist David J. Peterson created the High Valyrian language, as well as the derivative lan\n",
      "------------------------------------------------------------------\n",
      "Answer 4 : Ghiscari\n",
      "Probabilty : 0.2346736114346605\n",
      "Retriever Score : -9.456853866577148\n",
      "File Name : 213_Valyrian_languages.txt\n",
      "Context : anguages, descended from High Valyrian with the substrate of the local Ghiscari languages. Peterson noted that with regard to the vocabulary of the de\n",
      "------------------------------------------------------------------\n",
      "Answer 5 : ====Lhazar====\n",
      "Lhazar is an area of the semi-arid lands south of the Dothraki Sea. A region of pastures and hills, it is inhabited by the Lhazareen, a peaceful people with bronze skin, flat faces, and almond eyes. They are predominantly shepherds, called the Lamb Men by the Dothraki, who frequently prey on them. They worship a god called the Great Shepherd and believe that all of humanity is part of a single flock. The scenes at the village of the Lamb Men that is sacked by the Dothraki were filmed in Malta, at the farming town of Manikata.\n",
      "Probabilty : 0.1753756832444369\n",
      "Retriever Score : -12.383979797363281\n",
      "File Name : 195_World_of_A_Song_of_Ice_and_Fire.txt\n",
      "Context : ====Lhazar====\n",
      "Lhazar is an area of the semi-arid lands south of the Dothraki Sea. A region of pastures and hills, it is inhabited by the Lhazareen, a peaceful people with bronze skin, flat faces, and almond eyes. They are predominantly shepherds, called the Lamb Men by the Dothraki, who frequently prey on them. They worship a god called the Great Shepherd and believe that all of humanity is part of a single flock. The scenes at the village of the Lamb Men that is sacked by the Dothraki were filmed in Malta, at the farming town of Manikata.\n",
      "------------------------------------------------------------------\n"
     ]
    }
   ],
   "source": [
    "for i in range(5):\n",
    "    print('Answer ' + str(i + 1) + ' : ' + str(prediction2['answers'][i]['answer']) + '\\n' + 'Probabilty : ' + str(prediction2['answers'][i]['probability']) + '\\n' + 'Retriever Score : ' +  str(prediction2['answers'][i]['score']) + '\\n' + 'File Name : ' + str(prediction2['answers'][i]['meta']['name']) + '\\n' + 'Context : ' + str(prediction2['answers'][i]['context']) + '\\n------------------------------------------------------------------')"
   ]
  },
  {
   "cell_type": "code",
   "execution_count": 23,
   "metadata": {},
   "outputs": [
    {
     "name": "stderr",
     "output_type": "stream",
     "text": [
      "05/11/2021 17:12:45 - INFO - elasticsearch -   POST http://localhost:9200/document/_search [status:200 request:0.044s]\n",
      "05/11/2021 17:12:45 - INFO - haystack.finder -   Got 5 candidates from retriever\n",
      "05/11/2021 17:12:45 - INFO - haystack.finder -   Reader is looking for detailed answer in 5398 chars ...\n",
      "Inferencing Samples: 100%|█████████████████████████████████████████████████████████| 1/1 [00:00<00:00,  1.62 Batches/s]\n",
      "Inferencing Samples: 100%|█████████████████████████████████████████████████████████| 1/1 [00:01<00:00,  1.18s/ Batches]\n",
      "Inferencing Samples: 100%|█████████████████████████████████████████████████████████| 1/1 [00:00<00:00,  1.73 Batches/s]\n",
      "Inferencing Samples: 100%|█████████████████████████████████████████████████████████| 1/1 [00:02<00:00,  2.13s/ Batches]\n",
      "Inferencing Samples: 100%|█████████████████████████████████████████████████████████| 1/1 [00:02<00:00,  2.06s/ Batches]"
     ]
    },
    {
     "name": "stdout",
     "output_type": "stream",
     "text": [
      "7.141717910766602\n"
     ]
    },
    {
     "name": "stderr",
     "output_type": "stream",
     "text": [
      "\n"
     ]
    }
   ],
   "source": [
    "start = time.time()\n",
    "prediction4 = finder.get_answers(question=\"Who is the sister of Arya Stark?\", top_k_retriever=top_k_retriever, top_k_reader=top_k_reader)\n",
    "end = time.time()\n",
    "print(end - start)"
   ]
  },
  {
   "cell_type": "code",
   "execution_count": 26,
   "metadata": {},
   "outputs": [
    {
     "data": {
      "text/plain": [
       "{'question': 'father of Arya Stark',\n",
       " 'no_ans_gap': 4.670291900634766,\n",
       " 'answers': [{'answer': 'Lord Eddard Stark',\n",
       "   'score': 11.171564102172852,\n",
       "   'probability': 0.8016192392167827,\n",
       "   'context': 'ark daughters.\\nDuring the Tourney of the Hand to honour her father Lord Eddard Stark, Sansa Stark is enchanted by the knights performing in the event.',\n",
       "   'offset_start': 67,\n",
       "   'offset_end': 84,\n",
       "   'offset_start_in_doc': 659,\n",
       "   'offset_end_in_doc': 676,\n",
       "   'document_id': '62455470-513d-4c52-ac9d-0f4e79bf0ac8',\n",
       "   'meta': {'name': '332_Sansa_Stark.txt'}},\n",
       "  {'answer': 'Eddard \"Ned\" Stark',\n",
       "   'score': 6.122804641723633,\n",
       "   'probability': 0.68251427376839,\n",
       "   'context': '=\\nAfter Varys tells him that Sansa Stark\\'s life is also at stake, Eddard \"Ned\" Stark agrees to make a false confession and swear loyalty to King Joffr',\n",
       "   'offset_start': 66,\n",
       "   'offset_end': 84,\n",
       "   'offset_start_in_doc': 89,\n",
       "   'offset_end_in_doc': 107,\n",
       "   'document_id': 'e30945ef-cbc1-454b-b775-74e6b0d9246f',\n",
       "   'meta': {'name': '450_Baelor.txt'}},\n",
       "  {'answer': 'Joffrey',\n",
       "   'score': 1.2850825786590576,\n",
       "   'probability': 0.5400726989370918,\n",
       "   'context': \"laying with one of his wooden toys.\\nAfter Eddard discovers the truth of Joffrey's paternity, he tells Sansa that they will be heading back to Winterfe\",\n",
       "   'offset_start': 72,\n",
       "   'offset_end': 79,\n",
       "   'offset_start_in_doc': 1161,\n",
       "   'offset_end_in_doc': 1168,\n",
       "   'document_id': '62455470-513d-4c52-ac9d-0f4e79bf0ac8',\n",
       "   'meta': {'name': '332_Sansa_Stark.txt'}},\n",
       "  {'answer': 'Robb',\n",
       "   'score': 0.8005812764167786,\n",
       "   'probability': 0.5249973069974297,\n",
       "   'context': 'allow the army to cross the river and to commit his troops in return for Robb and Arya Stark marrying two of his children.\\nTyrion Lannister suspects h',\n",
       "   'offset_start': 73,\n",
       "   'offset_end': 77,\n",
       "   'offset_start_in_doc': 193,\n",
       "   'offset_end_in_doc': 197,\n",
       "   'document_id': '36dd27d2-a5aa-475c-8153-060580f534b3',\n",
       "   'meta': {'name': '450_Baelor.txt'}},\n",
       "  {'answer': 'Jeyne Poole',\n",
       "   'score': 0.2431885004043579,\n",
       "   'probability': 0.5075990554733993,\n",
       "   'context': 'men Baratheon legitimizes Ramsay as a Bolton. The Lannisters pass off Jeyne Poole as Arya Stark and send her north to be betrothed to Ramsay, with onl',\n",
       "   'offset_start': 70,\n",
       "   'offset_end': 81,\n",
       "   'offset_start_in_doc': 473,\n",
       "   'offset_end_in_doc': 484,\n",
       "   'document_id': '49f4821d-1e22-4552-8cbd-9788b97b5f03',\n",
       "   'meta': {'name': '487_Ramsay_Bolton.txt'}}]}"
      ]
     },
     "execution_count": 26,
     "metadata": {},
     "output_type": "execute_result"
    }
   ],
   "source": [
    "prediction"
   ]
  },
  {
   "cell_type": "code",
   "execution_count": 27,
   "metadata": {},
   "outputs": [
    {
     "data": {
      "text/plain": [
       "{'question': 'Who is the sister of Sansa?',\n",
       " 'no_ans_gap': 7.843256950378418,\n",
       " 'answers': [{'answer': 'Arya',\n",
       "   'score': 12.696374893188477,\n",
       "   'probability': 0.8302002114387067,\n",
       "   'context': \"denotes weakness. She doesn't have cool swordplay skills like her sister Arya; she isn't a smart seductress like Margaery Tyrell or a fierce queen lik\",\n",
       "   'offset_start': 73,\n",
       "   'offset_end': 77,\n",
       "   'offset_start_in_doc': 2601,\n",
       "   'offset_end_in_doc': 2605,\n",
       "   'document_id': '77c6e201-e2eb-419e-853d-57d7d7b87c83',\n",
       "   'meta': {'name': '332_Sansa_Stark.txt'}},\n",
       "  {'answer': 'Arya',\n",
       "   'score': 11.753791809082031,\n",
       "   'probability': 0.8129394055716899,\n",
       "   'context': 'n contrast to \"her universally (and rightly) adored tomboy little sister Arya\", stating that Sansa \"arguably gets a disproportionate amount of fan hat',\n",
       "   'offset_start': 73,\n",
       "   'offset_end': 77,\n",
       "   'offset_start_in_doc': 1402,\n",
       "   'offset_end_in_doc': 1406,\n",
       "   'document_id': '77c6e201-e2eb-419e-853d-57d7d7b87c83',\n",
       "   'meta': {'name': '332_Sansa_Stark.txt'}},\n",
       "  {'answer': 'Arya Stark',\n",
       "   'score': 11.033574104309082,\n",
       "   'probability': 0.7988619658918419,\n",
       "   'context': ' at the beginning of the series. She was raised with a younger sister Arya Stark, two younger brothers Rickon Stark and Bran Stark, as well as an olde',\n",
       "   'offset_start': 70,\n",
       "   'offset_end': 80,\n",
       "   'offset_start_in_doc': 266,\n",
       "   'offset_end_in_doc': 276,\n",
       "   'document_id': '3edfa908-5993-4384-a1af-7bc863919416',\n",
       "   'meta': {'name': '332_Sansa_Stark.txt'}},\n",
       "  {'answer': 'Margaery',\n",
       "   'score': 8.047813415527344,\n",
       "   'probability': 0.7322320406376471,\n",
       "   'context': \"hom she hopes will ask for her hand. His sister, Joffrey's new fiancé, Margaery, is also kind to her and takes her to dine with her grandmother, Olenn\",\n",
       "   'offset_start': 71,\n",
       "   'offset_end': 79,\n",
       "   'offset_start_in_doc': 482,\n",
       "   'offset_end_in_doc': 490,\n",
       "   'document_id': 'd2bb320e-58b8-4222-93fb-3c411fc709ae',\n",
       "   'meta': {'name': '332_Sansa_Stark.txt'}},\n",
       "  {'answer': 'Brienne of Tarth',\n",
       "   'score': 5.959063529968262,\n",
       "   'probability': 0.6780626968985626,\n",
       "   'context': \"busive husband Ramsay Bolton. Tormund becomes quickly attracted to Brienne of Tarth and attempts to court her, although she doesn't seem interested by\",\n",
       "   'offset_start': 67,\n",
       "   'offset_end': 83,\n",
       "   'offset_start_in_doc': 436,\n",
       "   'offset_end_in_doc': 452,\n",
       "   'document_id': '494b94b7-932e-46b6-b1a0-05a3370ae2e1',\n",
       "   'meta': {'name': '263_Tormund_Giantsbane.txt'}}]}"
      ]
     },
     "execution_count": 27,
     "metadata": {},
     "output_type": "execute_result"
    }
   ],
   "source": [
    "prediction1"
   ]
  },
  {
   "cell_type": "code",
   "execution_count": 28,
   "metadata": {},
   "outputs": [
    {
     "data": {
      "text/plain": [
       "{'question': 'Who is the sister of Arya Stark?',\n",
       " 'no_ans_gap': 9.28957462310791,\n",
       " 'answers': [{'answer': 'Sansa',\n",
       "   'score': 11.76846694946289,\n",
       "   'probability': 0.8132181995598411,\n",
       "   'context': 'k series.  She has five siblings: an older brother Robb, an older sister Sansa, two younger brothers Bran and Rickon, and an older illegitimate half-b',\n",
       "   'offset_start': 73,\n",
       "   'offset_end': 78,\n",
       "   'offset_start_in_doc': 215,\n",
       "   'offset_end_in_doc': 220,\n",
       "   'document_id': '5ad029e3-e220-40ab-9238-bc2ab161f630',\n",
       "   'meta': {'name': '43_Arya_Stark.txt'}},\n",
       "  {'answer': 'Sansa',\n",
       "   'score': 10.562017440795898,\n",
       "   'probability': 0.7892236596594573,\n",
       "   'context': \"\\n====Season 1====\\nArya accompanies her father Ned and her sister Sansa to King's Landing. Before their departure, Arya's half-brother Jon Snow gifts A\",\n",
       "   'offset_start': 65,\n",
       "   'offset_end': 70,\n",
       "   'offset_start_in_doc': 65,\n",
       "   'offset_end_in_doc': 70,\n",
       "   'document_id': '169962e4-0dba-46c7-977d-9224095fa7d3',\n",
       "   'meta': {'name': '43_Arya_Stark.txt'}},\n",
       "  {'answer': 'Sansa',\n",
       "   'score': 8.756053924560547,\n",
       "   'probability': 0.7492294199005792,\n",
       "   'context': \"Arya Stark; his bride is actually Jeyne Poole, a friend of Arya's sister Sansa forced to impersonate Arya. Ramsay abuses Jeyne physically and sexually\",\n",
       "   'offset_start': 73,\n",
       "   'offset_end': 78,\n",
       "   'offset_start_in_doc': 1415,\n",
       "   'offset_end_in_doc': 1420,\n",
       "   'document_id': 'e926a65b-80dd-4261-97df-d2f356d249fe',\n",
       "   'meta': {'name': '477_A_Dance_with_Dragons.txt'}},\n",
       "  {'answer': 'Asha Greyjoy',\n",
       "   'score': 7.702054023742676,\n",
       "   'probability': 0.7236734133572875,\n",
       "   'context': \"he Starks and fighting off the Ironborn; while doing so, he captures Asha Greyjoy, Victarion's niece. He marches his forces toward Winterfell to attac\",\n",
       "   'offset_start': 69,\n",
       "   'offset_end': 81,\n",
       "   'offset_start_in_doc': 379,\n",
       "   'offset_end_in_doc': 391,\n",
       "   'document_id': 'e926a65b-80dd-4261-97df-d2f356d249fe',\n",
       "   'meta': {'name': '477_A_Dance_with_Dragons.txt'}},\n",
       "  {'answer': 'Jeyne Poole',\n",
       "   'score': 7.515167713165283,\n",
       "   'probability': 0.7189776288424966,\n",
       "   'context': \"on has Ramsay apparently married to Arya Stark; his bride is actually Jeyne Poole, a friend of Arya's sister Sansa forced to impersonate Arya. Ramsay \",\n",
       "   'offset_start': 70,\n",
       "   'offset_end': 81,\n",
       "   'offset_start_in_doc': 1376,\n",
       "   'offset_end_in_doc': 1387,\n",
       "   'document_id': 'e926a65b-80dd-4261-97df-d2f356d249fe',\n",
       "   'meta': {'name': '477_A_Dance_with_Dragons.txt'}}]}"
      ]
     },
     "execution_count": 28,
     "metadata": {},
     "output_type": "execute_result"
    }
   ],
   "source": [
    "prediction4"
   ]
  },
  {
   "cell_type": "code",
   "execution_count": null,
   "metadata": {},
   "outputs": [],
   "source": []
  }
 ],
 "metadata": {
  "kernelspec": {
   "display_name": "Python 3",
   "language": "python",
   "name": "python3"
  },
  "language_info": {
   "codemirror_mode": {
    "name": "ipython",
    "version": 3
   },
   "file_extension": ".py",
   "mimetype": "text/x-python",
   "name": "python",
   "nbconvert_exporter": "python",
   "pygments_lexer": "ipython3",
   "version": "3.7.9"
  }
 },
 "nbformat": 4,
 "nbformat_minor": 2
}
